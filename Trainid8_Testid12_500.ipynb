{
  "nbformat": 4,
  "nbformat_minor": 0,
  "metadata": {
    "colab": {
      "provenance": [],
      "authorship_tag": "ABX9TyP5Iq7SPspyJuZSctvKWPC6",
      "include_colab_link": true
    },
    "kernelspec": {
      "name": "python3",
      "display_name": "Python 3"
    },
    "language_info": {
      "name": "python"
    }
  },
  "cells": [
    {
      "cell_type": "markdown",
      "metadata": {
        "id": "view-in-github",
        "colab_type": "text"
      },
      "source": [
        "<a href=\"https://colab.research.google.com/github/SupidchayaTangkidwanich/train-test-car/blob/main/Trainid8_Testid12_500.ipynb\" target=\"_parent\"><img src=\"https://colab.research.google.com/assets/colab-badge.svg\" alt=\"Open In Colab\"/></a>"
      ]
    },
    {
      "cell_type": "code",
      "execution_count": null,
      "metadata": {
        "id": "9oXOA0rESobV"
      },
      "outputs": [],
      "source": [
        "from google.colab import drive # เชื่อมเข้ากับ Drive\n",
        "drive.mount('/content/drive')  # คลิกที่ลิงก์ -> เลือก E-mail -> ลงชื่อเข้าใช้ -> ก็อปโค้ด -> นำกลับมาวางในช่องว่าง -> กด enter"
      ]
    },
    {
      "cell_type": "code",
      "source": [
        "ls  "
      ],
      "metadata": {
        "id": "9bDYJu0-YmrW"
      },
      "execution_count": null,
      "outputs": []
    },
    {
      "cell_type": "code",
      "source": [
        "from tensorflow.keras import models\n",
        "from tensorflow.keras import layers\n",
        "from tensorflow.keras import optimizers\n",
        "import os\n",
        "import glob\n",
        "import shutil\n",
        "import sys\n",
        "import numpy as np\n",
        "from skimage.io import imread\n",
        "import matplotlib.pyplot as plt\n",
        "from IPython.display import Image\n",
        "%matplotlib inline"
      ],
      "metadata": {
        "id": "n7Lg7I1yYmtu"
      },
      "execution_count": null,
      "outputs": []
    },
    {
      "cell_type": "code",
      "source": [
        "batch_size = 20\n",
        "width = 150\n",
        "height = 150\n",
        "epochs = 100\n",
        "NUM_TRAIN = 100\n",
        "NUM_TEST = 100\n",
        "dropout_rate = 0.2\n",
        "input_shape = (height, width, 3)"
      ],
      "metadata": {
        "id": "cRsjOiHkYmv9"
      },
      "execution_count": null,
      "outputs": []
    },
    {
      "cell_type": "code",
      "source": [
        "#ดึงข้อมูลใน Github มาใช้\n",
        "import os\n",
        "%cd /content\n",
        "if not os.path.isdir(\"efficientnet_keras_transfer_learning\"):\n",
        " !git clone https://github.com/Wanita-8943/efficientnet_keras_transfer_learning\n",
        "%cd efficientnet_keras_transfer_learning/"
      ],
      "metadata": {
        "id": "6N3qx6KaYmyb"
      },
      "execution_count": null,
      "outputs": []
    },
    {
      "cell_type": "code",
      "source": [
        "# Options: EfficientNetB0, EfficientNetB1, EfficientNetB2, EfficientNetB3\n",
        "# Higher the number, the more complex the model is.\n",
        "from efficientnet import EfficientNetB0 as Net\n",
        "from efficientnet import center_crop_and_resize, preprocess_input"
      ],
      "metadata": {
        "id": "I656r_8KYm0j"
      },
      "execution_count": null,
      "outputs": []
    },
    {
      "cell_type": "code",
      "source": [
        "# loading pretrained conv base model\n",
        "# โหลดโมเดล มาโดยตัด output ของโมเดลออก เเต่ยังใช้ input อันเดิม\n",
        "# เเละโหลด weight ของโมเดล มาด้วยที่ชื่อว่า imagenet\n",
        "conv_base = Net(weights='imagenet', include_top=False, input_shape=input_shape)"
      ],
      "metadata": {
        "id": "WOlFo78lYm2S"
      },
      "execution_count": null,
      "outputs": []
    },
    {
      "cell_type": "code",
      "source": [
        "conv_base.summary() #ดู Summary"
      ],
      "metadata": {
        "id": "OJxnYWsZYwMk"
      },
      "execution_count": null,
      "outputs": []
    },
    {
      "cell_type": "code",
      "source": [
        "base_dir = '/content/drive/My Drive/id'\n",
        "os.makedirs(base_dir, exist_ok=True)\n",
        "\n",
        "# Directories for our training,\n",
        "# validation and test splits\n",
        "train_dir = os.path.join(base_dir, 'id8')\n",
        "os.makedirs(train_dir, exist_ok=True)\n",
        "test_dir = os.path.join(base_dir, 'id12')\n",
        "os.makedirs(test_dir, exist_ok=True)"
      ],
      "metadata": {
        "id": "sBD9ZqyhYwV_"
      },
      "execution_count": null,
      "outputs": []
    },
    {
      "cell_type": "code",
      "source": [
        "from tensorflow.keras.preprocessing.image import ImageDataGenerator\n",
        "\n",
        "train_datagen = ImageDataGenerator(\n",
        "      rescale=1./255, # image input 0-255 --> 0-1 เปลี่ยนค่าสี\n",
        "      rotation_range=40,# หมุนภาพในองศา\n",
        "      width_shift_range=0.2, #เปลี่ยนความกว้าง\n",
        "      height_shift_range=0.2, #ปลี่ยนความสูง\n",
        "      shear_range=0.2, #ทำให้ภาพเบี้ยว\n",
        "      zoom_range=0.2, # Randomly zoom image\n",
        "      horizontal_flip=True, \n",
        "      #โดย Default เมื่อมีการเลื่อนภาพ บิดภาพ หมุนภาพ จะเกิดพื้นที่ว่างที่มุม \n",
        "      #ซึ่งจะมีการเติมภาพให้เต็มโดยใช้เทคนิคแบบ Nearest neighbor ซึ่งเป็นการดึงสีบริเวณใหล้าเคียงมาระบายให้เต็ม แต่เราก็ยังสามารถกำหนดวิธีการ Fill ภาพด้วยเทคนิคอื่นได้จาก Parameter fill_mode\n",
        "      fill_mode='nearest')\n",
        "# Note that the validation data should not be augmented!\n",
        "test_datagen = ImageDataGenerator(rescale=1./255)\n",
        "\n",
        "train_generator = train_datagen.flow_from_directory(\n",
        "        # This is the target directory #ไดเรกเป้าหมาย\n",
        "        train_dir,\n",
        "        # รูปภาพทั้งหมดจะถูกปรับขนาดตามความสูงและความกว้างของเป้าหมาย\n",
        "        target_size=(height, width),\n",
        "        batch_size=batch_size,\n",
        "        # Since we use categorical_crossentropy loss, we need categorical labels\n",
        "        #เนื่องจากเราใช้ categorical_crossentropy loss เราจึงต้องมีป้ายกำกับตามหมวดหมู่\n",
        "        class_mode='categorical')\n",
        "\n",
        "test_generator = test_datagen.flow_from_directory( #การดึงภาพจาก Directory มาเข้าโมเดล \n",
        "        test_dir,\n",
        "        target_size=(height, width),\n",
        "        batch_size=batch_size,\n",
        "        class_mode='categorical')"
      ],
      "metadata": {
        "id": "ltExP3m4YwYb"
      },
      "execution_count": null,
      "outputs": []
    },
    {
      "cell_type": "markdown",
      "source": [
        "## load model"
      ],
      "metadata": {
        "id": "Frypf9elY3_x"
      }
    },
    {
      "cell_type": "code",
      "source": [
        "import os\n",
        "%cd /content\n",
        "if not os.path.isdir(\"efficientnet_keras_transfer_learning\"):\n",
        " !git clone https://github.com/Wanita-8943/efficientnet_keras_transfer_learning\n",
        "%cd efficientnet_keras_transfer_learning/"
      ],
      "metadata": {
        "id": "2oyOCAazY4vq"
      },
      "execution_count": null,
      "outputs": []
    },
    {
      "cell_type": "code",
      "source": [
        "import sys\n",
        "sys.path.append('/content/drive/My Drive/Train/Trainid8_Testid12_400.h5')\n",
        "\n",
        "from efficientnet.layers import Swish, DropConnect\n",
        "from efficientnet.model import ConvKernalInitializer\n",
        "from tensorflow.keras.utils import get_custom_objects\n",
        "\n",
        "get_custom_objects().update({\n",
        "    'ConvKernalInitializer': ConvKernalInitializer,\n",
        "    'Swish': Swish,\n",
        "    'DropConnect':DropConnect\n",
        "})"
      ],
      "metadata": {
        "id": "BVpn2GR6Y6OW"
      },
      "execution_count": null,
      "outputs": []
    },
    {
      "cell_type": "code",
      "source": [
        "#load model \n",
        "from tensorflow.keras.models import load_model\n",
        "modelfive = load_model('/content/drive/My Drive/Train/Trainid8_Testid12_400.h5')\n",
        "height = width = modelfive.input_shape[1]"
      ],
      "metadata": {
        "id": "Bt0Gpt11Y6Qi"
      },
      "execution_count": null,
      "outputs": []
    },
    {
      "cell_type": "code",
      "source": [
        "modelfive.summary()\n",
        "modelfive.get_weights()"
      ],
      "metadata": {
        "id": "jqH8vPT7Y6V2"
      },
      "execution_count": null,
      "outputs": []
    },
    {
      "cell_type": "markdown",
      "source": [
        "## Training"
      ],
      "metadata": {
        "id": "RgyPv-28ZFhT"
      }
    },
    {
      "cell_type": "code",
      "source": [
        "modelfive.compile(loss='categorical_crossentropy',\n",
        "              optimizer=optimizers.RMSprop(lr=2e-5),\n",
        "              metrics=['acc'])\n",
        "history = modelfive.fit_generator(\n",
        "      train_generator,\n",
        "      steps_per_epoch= NUM_TRAIN //batch_size,\n",
        "      epochs=epochs,\n",
        "      validation_data=test_generator,\n",
        "      validation_steps= NUM_TEST //batch_size,\n",
        "      verbose=1,\n",
        "      use_multiprocessing=True,\n",
        "      workers=4)"
      ],
      "metadata": {
        "colab": {
          "base_uri": "https://localhost:8080/"
        },
        "id": "KMFdFjONZGfE",
        "outputId": "e8a5824f-493a-4042-93f3-49ebdf9d6527"
      },
      "execution_count": null,
      "outputs": [
        {
          "metadata": {
            "tags": null
          },
          "name": "stderr",
          "output_type": "stream",
          "text": [
            "/usr/local/lib/python3.8/dist-packages/keras/optimizers/optimizer_v2/rmsprop.py:135: UserWarning: The `lr` argument is deprecated, use `learning_rate` instead.\n",
            "  super(RMSprop, self).__init__(name, **kwargs)\n",
            "<ipython-input-15-81d440816b66>:4: UserWarning: `Model.fit_generator` is deprecated and will be removed in a future version. Please use `Model.fit`, which supports generators.\n",
            "  history = modelfive.fit_generator(\n"
          ]
        },
        {
          "metadata": {
            "tags": null
          },
          "name": "stdout",
          "output_type": "stream",
          "text": [
            "Epoch 1/100\n",
            "5/5 [==============================] - 58s 10s/step - loss: 2.3993 - acc: 0.2400 - val_loss: 2.4260 - val_acc: 0.2900\n",
            "Epoch 2/100\n",
            "5/5 [==============================] - 63s 13s/step - loss: 2.3389 - acc: 0.2700 - val_loss: 2.5632 - val_acc: 0.2200\n",
            "Epoch 3/100\n",
            "5/5 [==============================] - 63s 13s/step - loss: 2.1083 - acc: 0.3100 - val_loss: 2.2565 - val_acc: 0.3000\n",
            "Epoch 4/100\n",
            "5/5 [==============================] - 45s 8s/step - loss: 2.3651 - acc: 0.2700 - val_loss: 2.0594 - val_acc: 0.3000\n",
            "Epoch 5/100\n",
            "5/5 [==============================] - 62s 13s/step - loss: 2.3559 - acc: 0.2900 - val_loss: 2.6491 - val_acc: 0.1900\n",
            "Epoch 6/100\n",
            "5/5 [==============================] - 62s 13s/step - loss: 2.5767 - acc: 0.1900 - val_loss: 2.3501 - val_acc: 0.2600\n",
            "Epoch 7/100\n",
            "5/5 [==============================] - 43s 8s/step - loss: 2.3954 - acc: 0.2700 - val_loss: 2.3497 - val_acc: 0.2300\n",
            "Epoch 8/100\n",
            "5/5 [==============================] - 62s 13s/step - loss: 2.4568 - acc: 0.2800 - val_loss: 2.1383 - val_acc: 0.3000\n",
            "Epoch 9/100\n",
            "5/5 [==============================] - 61s 12s/step - loss: 2.1148 - acc: 0.2300 - val_loss: 2.4242 - val_acc: 0.2400\n",
            "Epoch 10/100\n",
            "5/5 [==============================] - 34s 6s/step - loss: 2.8054 - acc: 0.1905 - val_loss: 2.2088 - val_acc: 0.2600\n",
            "Epoch 11/100\n",
            "5/5 [==============================] - 61s 13s/step - loss: 2.3604 - acc: 0.3300 - val_loss: 2.0698 - val_acc: 0.3400\n",
            "Epoch 12/100\n",
            "5/5 [==============================] - 61s 12s/step - loss: 2.5196 - acc: 0.2200 - val_loss: 2.2594 - val_acc: 0.3100\n",
            "Epoch 13/100\n",
            "5/5 [==============================] - 42s 7s/step - loss: 2.5073 - acc: 0.2100 - val_loss: 2.2214 - val_acc: 0.2500\n",
            "Epoch 14/100\n",
            "5/5 [==============================] - 58s 12s/step - loss: 2.3701 - acc: 0.1800 - val_loss: 2.4737 - val_acc: 0.2900\n",
            "Epoch 15/100\n",
            "5/5 [==============================] - 59s 12s/step - loss: 2.1086 - acc: 0.3400 - val_loss: 2.4902 - val_acc: 0.2500\n",
            "Epoch 16/100\n",
            "5/5 [==============================] - 60s 12s/step - loss: 2.3088 - acc: 0.2800 - val_loss: 2.3595 - val_acc: 0.2700\n",
            "Epoch 17/100\n",
            "5/5 [==============================] - 60s 12s/step - loss: 2.4405 - acc: 0.2600 - val_loss: 2.8280 - val_acc: 0.1600\n",
            "Epoch 18/100\n",
            "5/5 [==============================] - 38s 7s/step - loss: 2.4359 - acc: 0.2800 - val_loss: 2.2812 - val_acc: 0.2400\n",
            "Epoch 19/100\n",
            "5/5 [==============================] - 41s 7s/step - loss: 2.4870 - acc: 0.2400 - val_loss: 2.4787 - val_acc: 0.1800\n",
            "Epoch 20/100\n",
            "5/5 [==============================] - 39s 7s/step - loss: 2.1806 - acc: 0.3200 - val_loss: 2.5211 - val_acc: 0.3200\n",
            "Epoch 21/100\n",
            "5/5 [==============================] - 39s 7s/step - loss: 2.3178 - acc: 0.2500 - val_loss: 2.4185 - val_acc: 0.2500\n",
            "Epoch 22/100\n",
            "5/5 [==============================] - 40s 7s/step - loss: 2.1034 - acc: 0.3200 - val_loss: 2.5321 - val_acc: 0.2500\n",
            "Epoch 23/100\n",
            "5/5 [==============================] - 39s 8s/step - loss: 2.2799 - acc: 0.2400 - val_loss: 2.4967 - val_acc: 0.2700\n",
            "Epoch 24/100\n",
            "5/5 [==============================] - 38s 7s/step - loss: 2.2354 - acc: 0.3000 - val_loss: 2.5251 - val_acc: 0.2400\n",
            "Epoch 25/100\n"
          ]
        }
      ]
    },
    {
      "cell_type": "code",
      "source": [
        "acc = history.history['acc']\n",
        "val_acc = history.history['val_acc']\n",
        "loss = history.history['loss']\n",
        "val_loss = history.history['val_loss']\n",
        "\n",
        "epochs_x = range(len(acc))\n",
        "\n",
        "plt.plot(epochs_x, acc, 'r', label='Training acc')\n",
        "plt.plot(epochs_x, val_acc, 'b', label='Validation acc')\n",
        "plt.title('Training and validation accuracy')\n",
        "plt.legend()\n",
        "\n",
        "plt.figure()\n",
        "\n",
        "plt.plot(epochs_x, loss, 'r', label='Training loss')\n",
        "plt.plot(epochs_x, val_loss, 'b', label='Validation loss')\n",
        "plt.title('Training and validation loss')\n",
        "plt.legend()\n",
        "\n",
        "plt.show()"
      ],
      "metadata": {
        "id": "KMxYjIRYZId8"
      },
      "execution_count": null,
      "outputs": []
    },
    {
      "cell_type": "markdown",
      "source": [
        "## save model"
      ],
      "metadata": {
        "id": "KBoRAI53ZInm"
      }
    },
    {
      "cell_type": "code",
      "source": [
        "os.makedirs(\"./content/drive/My Drive/Train\", exist_ok=True)\n",
        "modelfive.save('./content/drive/My Drive/Train/Trainid8_Testid12_500.h5')"
      ],
      "metadata": {
        "id": "L3MYyDxFZIuT"
      },
      "execution_count": null,
      "outputs": []
    },
    {
      "cell_type": "code",
      "source": [
        "from google.colab import files"
      ],
      "metadata": {
        "id": "zWm00_tUZIw9"
      },
      "execution_count": null,
      "outputs": []
    },
    {
      "cell_type": "code",
      "source": [
        "files.download(\"./content/drive/My Drive/Train/Trainid8_Testid12_500.h5\")"
      ],
      "metadata": {
        "id": "qZB3xtBtZIzp"
      },
      "execution_count": null,
      "outputs": []
    }
  ]
}